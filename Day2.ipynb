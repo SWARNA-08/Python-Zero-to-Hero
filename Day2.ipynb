{
  "nbformat": 4,
  "nbformat_minor": 0,
  "metadata": {
    "colab": {
      "name": "Day2.ipynb",
      "provenance": [],
      "collapsed_sections": [],
      "toc_visible": true
    },
    "kernelspec": {
      "name": "python3",
      "display_name": "Python 3"
    },
    "language_info": {
      "name": "python"
    }
  },
  "cells": [
    {
      "cell_type": "code",
      "metadata": {
        "colab": {
          "base_uri": "https://localhost:8080/"
        },
        "id": "d0hwRbqhA_ew",
        "outputId": "e7830c7e-3a83-442a-e53d-be9f3a5ded8c"
      },
      "source": [
        "# Check whether a string is a pangram or not\n",
        "# Remove all the occurrence of the element from the list\n",
        "import string\n",
        " \n",
        "alphabet = set(string.ascii_lowercase)\n",
        "  \n",
        "def ispangram(string):\n",
        "    return set(string.lower()) >= alphabet\n",
        "      \n",
        "# Driver code\n",
        "string = \"The quick brown fox jumps over the lazy dog\"\n",
        "if(ispangram(string) == True):\n",
        "    print(\"Yes\")\n",
        "else:\n",
        "    print(\"No\")"
      ],
      "execution_count": 1,
      "outputs": [
        {
          "output_type": "stream",
          "text": [
            "Yes\n"
          ],
          "name": "stdout"
        }
      ]
    },
    {
      "cell_type": "code",
      "metadata": {
        "colab": {
          "base_uri": "https://localhost:8080/"
        },
        "id": "u-Vj5a3ODxbD",
        "outputId": "f965b73f-c2c3-4140-9a07-fc46c9ce31ce"
      },
      "source": [
        "# Remove all the occurrence of the element from the list\n",
        "x=[1,2,3,4,4,5,6,7,8,9]\n",
        "list(filter(lambda a: a != 4, x))"
      ],
      "execution_count": 4,
      "outputs": [
        {
          "output_type": "execute_result",
          "data": {
            "text/plain": [
              "[1, 2, 3, 5, 6, 7, 8, 9]"
            ]
          },
          "metadata": {
            "tags": []
          },
          "execution_count": 4
        }
      ]
    }
  ]
}