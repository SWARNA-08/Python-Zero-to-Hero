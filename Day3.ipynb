{
  "nbformat": 4,
  "nbformat_minor": 0,
  "metadata": {
    "colab": {
      "name": "Day3.ipynb",
      "provenance": [],
      "collapsed_sections": []
    },
    "kernelspec": {
      "name": "python3",
      "display_name": "Python 3"
    },
    "language_info": {
      "name": "python"
    }
  },
  "cells": [
    {
      "cell_type": "code",
      "metadata": {
        "id": "d0hwRbqhA_ew"
      },
      "source": [
        "# Assignment3 - Check whether a string is a pangram or not\n",
        "import string\n",
        " \n",
        "alphabet = set(string.ascii_lowercase)\n",
        "  \n",
        "def ispangram(string):\n",
        "    return set(string.lower()) >= alphabet\n",
        "      \n",
        "# Driver code\n",
        "string = \"The quick brown fox jumps over the lazy dog\"\n",
        "if(ispangram(string) == True):\n",
        "    print(\"Yes\")\n",
        "else:\n",
        "    print(\"No\")"
      ],
      "execution_count": null,
      "outputs": []
    }
  ]
}