{
  "nbformat": 4,
  "nbformat_minor": 0,
  "metadata": {
    "colab": {
      "name": "Day1.ipynb",
      "provenance": [],
      "collapsed_sections": []
    },
    "kernelspec": {
      "name": "python3",
      "display_name": "Python 3"
    },
    "language_info": {
      "name": "python"
    }
  },
  "cells": [
    {
      "cell_type": "code",
      "metadata": {
        "id": "kzpD2MTsgH4r"
      },
      "source": [
        ""
      ],
      "execution_count": null,
      "outputs": []
    },
    {
      "cell_type": "code",
      "metadata": {
        "colab": {
          "base_uri": "https://localhost:8080/"
        },
        "id": "eC3MbYRPeduq",
        "outputId": "04fb42ec-cb95-40fb-8626-c497c3b0e4b3"
      },
      "source": [
        "li = [8, 65, 25, 99, 145, 11]\n",
        "li.sort()\n",
        "li.reverse()\n",
        "print(li)"
      ],
      "execution_count": 4,
      "outputs": [
        {
          "output_type": "stream",
          "text": [
            "[145, 99, 65, 25, 11, 8]\n"
          ],
          "name": "stdout"
        }
      ]
    }
  ]
}